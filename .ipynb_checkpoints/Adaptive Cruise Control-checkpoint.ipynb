{
 "cells": [
  {
   "cell_type": "code",
   "execution_count": 1,
   "id": "joint-elite",
   "metadata": {},
   "outputs": [],
   "source": [
    "# PID based cruise control\n",
    "# @Lucas Elbert Suryana\n",
    "# Adapted from Matlab code - Meng Wang\n",
    "# 3 May, 2022\n",
    "import numpy as np\n",
    "import matplotlib.pyplot as plt\n",
    "\n",
    "# Simulation parameters\n",
    "T = 50 # simulation time [s]\n",
    "dt_sim = 0.1 # simulation time step [s]\n",
    "n_sim = T/dt_sim # number of simulation steps\n",
    "s0 = 2         # minimum gap at standstill [m]\n",
    "v0 = 120/3.6   # free speed    [m/s]\n",
    "l = 4          # vehicle length [m]\n",
    "td = 1.0         # desired time gap [s]\n",
    "\n",
    "approaching  = 0 # test approaching scenario? 0: normal car following; 1: approaching standstill vehicle;\n",
    "\n",
    "ACCcontroller = 1 # 1: linear state-feedback ACC; 2: MPC-ACC\n",
    "\n",
    "# System parameter\n",
    "tauA = 0.2     # actuator lag, representing driveline dyanmics [s]\n",
    "tauS = 0.2     # delay in sensor and estimator [s]\n",
    "u_max = 1.5    # maximum acceleration [m/s^2]\n",
    "u_min = -8     # minimum acceleration [m/s^2]\n",
    "ktauA = (tauA/dt_sim)\n",
    "ktauS = (tauS/dt_sim)\n",
    "\n",
    "# Linear ACC controller parameter\n",
    "ks = 0.2         # feedback parameter on desired gap error\n",
    "kv = 0.4         # feedback parameter on relative speed\n",
    "kf = 0.1         # weight on free speed\n",
    "\n",
    "# MPC ACC parameter\n",
    "H = 5 # Prediction horizon [s]\n",
    "dt = dt_sim # open loop control step\n",
    "c1 = 5        # weight on safety cost\n",
    "c2 = 0.2       # weight on efficiency cost\n",
    "c3 = 0.5       # weight on acceleration\n",
    "alfa = 0.01    # parameter for the iPMP algorithm based on Pontryagin's Principle\n",
    "smin = 1e-3    # Approximate s= 0 to avoid singularity\n",
    "m = H/dt #\n",
    "\n",
    "savefig = 0 #"
   ]
  },
  {
   "cell_type": "code",
   "execution_count": null,
   "id": "stopped-modeling",
   "metadata": {},
   "outputs": [],
   "source": [
    "## bookkeeping %%%%%%%%%%%%\n",
    "# pre-allocation of closed-loop variables\n",
    "if approaching == 1:\n",
    "    n_f = 1\n",
    "else:\n",
    "    n_f = 1 # number of followers in the platoon, excluding the leader\n",
    "\n",
    "AL = np.zeros(int(n_sim))    # Acceleration of leader (closed loop)\n",
    "#vleader = zeros(1,n_sim); # Speed of leader (closed loop)\n",
    "U = np.zeros((n_f,int(n_sim)))     # Desired acceleration of followers  (closed loop)\n",
    "AF = np.zeros((n_f,int(n_sim)))    # Acceleration of followers  (closed loop)\n",
    "VF = np.zeros((n_f,int(n_sim)))    # Speed of followers (closed loop)\n",
    "XF = np.zeros((n_f,int(n_sim)))    # Position of followers (closed loop)\n",
    "S = np.zeros((n_f,int(n_sim)))     # Gap of followers (closed loop)\n",
    "DV = np.zeros((n_f,int(n_sim)))    # Relative speed of followers (closed loop)\n",
    "Vinput = np.zeros((n_f,int(n_sim)))\n",
    "Lclose = np.zeros((n_f,int(n_sim)))\n",
    "Jclose = np.zeros((n_f,int(n_sim)))"
   ]
  }
 ],
 "metadata": {
  "kernelspec": {
   "display_name": "Python 3",
   "language": "python",
   "name": "python3"
  },
  "language_info": {
   "codemirror_mode": {
    "name": "ipython",
    "version": 3
   },
   "file_extension": ".py",
   "mimetype": "text/x-python",
   "name": "python",
   "nbconvert_exporter": "python",
   "pygments_lexer": "ipython3",
   "version": "3.8.5"
  }
 },
 "nbformat": 4,
 "nbformat_minor": 5
}
